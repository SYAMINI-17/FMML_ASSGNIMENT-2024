{
  "nbformat": 4,
  "nbformat_minor": 0,
  "metadata": {
    "colab": {
      "provenance": [],
      "include_colab_link": true
    },
    "kernelspec": {
      "name": "python3",
      "display_name": "Python 3"
    },
    "language_info": {
      "name": "python"
    }
  },
  "cells": [
    {
      "cell_type": "markdown",
      "metadata": {
        "id": "view-in-github",
        "colab_type": "text"
      },
      "source": [
        "<a href=\"https://colab.research.google.com/github/SYAMINI-17/FMML_ASSGNIMENT-2024/blob/main/FMML_Module_9_Lab_3.ipynb\" target=\"_parent\"><img src=\"https://colab.research.google.com/assets/colab-badge.svg\" alt=\"Open In Colab\"/></a>"
      ]
    },
    {
      "cell_type": "markdown",
      "source": [
        "# Module 9: Convolutional Neural Networks\n",
        "## **Lab 3**\n",
        "### Module coordinator: Kushagra Agarwal"
      ],
      "metadata": {
        "id": "kCpbL40ggQf1"
      }
    },
    {
      "cell_type": "markdown",
      "source": [
        "## 1. Understanding Convolutions"
      ],
      "metadata": {
        "id": "0hAW8ptqVeyP"
      }
    },
    {
      "cell_type": "markdown",
      "source": [
        "<img src=\"https://miro.medium.com/max/464/0*e-SMFTzO8r7skkpc\" width=650px/>"
      ],
      "metadata": {
        "id": "q6wfvhccKxWx"
      }
    },
    {
      "cell_type": "code",
      "execution_count": 22,
      "metadata": {
        "id": "yZD5S7IQgHbU"
      },
      "outputs": [],
      "source": [
        "import cv2\n",
        "import numpy as np\n",
        "import matplotlib.pyplot as plt"
      ]
    },
    {
      "cell_type": "code",
      "source": [
        "# Importing some pytorch packages\n",
        "import torch\n",
        "from torch.nn import Conv2d"
      ],
      "metadata": {
        "id": "BDE4WBHalreb"
      },
      "execution_count": 23,
      "outputs": []
    },
    {
      "cell_type": "markdown",
      "source": [
        "Central to CNNs, a convolution operation is a linear element-wise multiplication operation between a small filter/kernel and same-sized patch from the image. We move this filter over the image like a sliding window from top left to bottom right. For each point on the image, a value is calculated based on the filter using a convolution operation. These filters can do simplest task like checking if there is a vertical line in the image or complicated task like detecting a human eye in the image.\n",
        "\n",
        "Let's look at the convolution formula:\n",
        "\n",
        "Convolution between image\n",
        "$f(x, y)$ and kernel $k(x, y)$ is\n",
        "$$f(x,y) * k(x,y) = \\sum \\limits _{i=0} ^{W-1} \\sum \\limits _{j=0} ^{H-1} f(i, j) k(x − i, y − j)$$\n",
        "\n",
        "where $W$ and $H$ are the the width and height of the image.\n",
        "\n",
        "The code demonstrates the convolution operation of a 2D matrix (image) with various filters"
      ],
      "metadata": {
        "id": "hbpRXyTpVv7u"
      }
    },
    {
      "cell_type": "markdown",
      "source": [
        "<img src=\"https://www.researchgate.net/profile/Chaim-Baskin/publication/318849314/figure/fig1/AS:614287726870532@1523469015098/Image-convolution-with-an-input-image-of-size-7-7-and-a-filter-kernel-of-size-3-3.png\" alt=\"Convolution\" width=650px height=280px/>"
      ],
      "metadata": {
        "id": "amI6DTS0Ksvo"
      }
    },
    {
      "cell_type": "code",
      "source": [
        "# 2D 3x3 binary image with vertical edge\n",
        "image1 = np.array([[1,1,0], [1,1,0], [1,1,0]])\n",
        "\n",
        "# 2D 3x3 binary image with horizontal edge\n",
        "image2 = np.array([[0,0,0], [0,0,0], [1,1,1]])\n",
        "\n",
        "# On plotting the images\n",
        "plt.imshow(image1, cmap='gray', extent=[0, 3, 3, 0])\n",
        "plt.show()\n",
        "plt.imshow(image2, cmap='gray', extent=[0, 3, 3, 0])\n",
        "plt.show()"
      ],
      "metadata": {
        "colab": {
          "base_uri": "https://localhost:8080/",
          "height": 853
        },
        "id": "IalqupPPkDil",
        "outputId": "4230a220-a7cd-4146-b7f4-a571559dc890"
      },
      "execution_count": 24,
      "outputs": [
        {
          "output_type": "display_data",
          "data": {
            "text/plain": [
              "<Figure size 640x480 with 1 Axes>"
            ],
            "image/png": "[encoded data removed]"
          },
          "metadata": {}
        },
        {
          "output_type": "display_data",
          "data": {
            "text/plain": [
              "<Figure size 640x480 with 1 Axes>"
            ],
            "image/png": "[encoded data removed]"
          },
          "metadata": {}
        }
      ]
    },
    {
      "cell_type": "code",
      "source": [
        "# Vertical Line filter\n",
        "filter = np.array([[1,0,-1],\n",
        "                   [1,0,-1],\n",
        "                   [1,0,-1]])\n",
        "\n",
        "# Applying filter to first image\n",
        "output = np.sum(np.multiply(image1, filter))\n",
        "print('Output from first image: ', output)\n",
        "\n",
        "# Applying filter to second image\n",
        "output = np.sum(np.multiply(image2, filter))\n",
        "print('Output from second image: ', output)"
      ],
      "metadata": {
        "colab": {
          "base_uri": "https://localhost:8080/"
        },
        "id": "g42INjCaketK",
        "outputId": "9f48211d-5f10-4333-feb7-fe488144229e"
      },
      "execution_count": 25,
      "outputs": [
        {
          "output_type": "stream",
          "name": "stdout",
          "text": [
            "Output from first image:  3\n",
            "Output from second image:  0\n"
          ]
        }
      ]
    },
    {
      "cell_type": "code",
      "source": [
        "# Horizontal edge filter\n",
        "filter = np.array([[-1,-1,-1],\n",
        "                   [ 0, 0, 0],\n",
        "                   [ 1, 1, 1]])\n",
        "\n",
        "output = np.sum(np.multiply(image1, filter))\n",
        "print('Output from first image: ', output)\n",
        "\n",
        "output = np.sum(np.multiply(image2, filter))\n",
        "print('Output from second image: ', output)"
      ],
      "metadata": {
        "colab": {
          "base_uri": "https://localhost:8080/"
        },
        "id": "Tba3ySYUk2df",
        "outputId": "e5f09763-f4a4-44fb-ea1b-d07c2ac6703c"
      },
      "execution_count": 26,
      "outputs": [
        {
          "output_type": "stream",
          "name": "stdout",
          "text": [
            "Output from first image:  0\n",
            "Output from second image:  3\n"
          ]
        }
      ]
    },
    {
      "cell_type": "markdown",
      "source": [
        "Non-zero output suggests that there is a vertical edge present in the first image and not present in the second image. Similarly, horizontal edge is detected in second."
      ],
      "metadata": {
        "id": "BmYcPhDgk_in"
      }
    },
    {
      "cell_type": "markdown",
      "source": [
        "Let's define a function to use convolution layer from Pytorch and use our own kernel to detect edges in image"
      ],
      "metadata": {
        "id": "UNdrDtAKqyj2"
      }
    },
    {
      "cell_type": "code",
      "source": [
        "def apply_conv(image, kernel, padding=0, stride=1):\n",
        "\n",
        "  #--------IMAGE PREPROCESSING-------\n",
        "  image = torch.from_numpy(image)\n",
        "  # Pytorch requires input to convolution in (N,C,H,W), where N = batch size and C=#channels in input\n",
        "  input = image.view((1,1,image.shape[0], image.shape[1]))\n",
        "\n",
        "  # --------------KERNEL-------------\n",
        "  kernel = torch.from_numpy(kernel.astype(np.float32))\n",
        "\n",
        "  # Pytorch requires kernel of shape (N,C,H,W), where N = batch size and C=#channels in input\n",
        "  kernel = kernel.view((1,1,kernel.shape[0], kernel.shape[1]))\n",
        "\n",
        "  # ---------CONVOLUTION LAYER from Pytorch--------\n",
        "  conv = Conv2d(in_channels=1, out_channels=1, kernel_size=kernel.shape, padding=padding, stride=stride)\n",
        "\n",
        "  # Set the kernel weights in the convolution layer\n",
        "  conv.weight = torch.nn.Parameter(kernel)\n",
        "\n",
        "  # ---------APPLY CONVOLUTION--------\n",
        "  output = conv(input.float())\n",
        "  output_img = output.data.numpy()  # Tensor to back in numpy\n",
        "  output_img = output_img.reshape((-1, output_img.shape[-1])) # Reshape to 2D image\n",
        "\n",
        "  return output_img"
      ],
      "metadata": {
        "id": "G5fRJziBk3YB"
      },
      "execution_count": 27,
      "outputs": []
    },
    {
      "cell_type": "markdown",
      "source": [
        "## Pooling Layers\n",
        "\n",
        "Pooling layers are used to reduce the dimensions of the feature maps. Thus, it reduces the number of parameters to learn and the amount of computation performed in the network. The pooling layer summarises the features present in a region of the feature map generated by a convolution layer.\n",
        "\n",
        "1) Max Pooling:\n",
        "\n",
        "<img src='https://media.geeksforgeeks.org/wp-content/uploads/20190721025744/Screenshot-2019-07-21-at-2.57.13-AM.png' height=150px/>\n",
        "\n",
        "2) Average Pooling:\n",
        "\n",
        "<img src='https://media.geeksforgeeks.org/wp-content/uploads/20190721030705/Screenshot-2019-07-21-at-3.05.56-AM.png' height=150px/>"
      ],
      "metadata": {
        "id": "FpA0yEk1BgRb"
      }
    },
    {
      "cell_type": "markdown",
      "source": [
        "## Softmax layer/activation\n",
        "Recall that logistic regression produces a decimal between 0 and 1.0. For example, a logistic regression output of 0.8 from an email classifier suggests an 80% chance of an email being spam and a 20% chance of it being not spam. Clearly, the sum of the probabilities of an email being either spam or not spam is 1.0.\n",
        "\n",
        "Softmax extends this idea into a multi-class world. That is, Softmax assigns decimal probabilities to each class in a multi-class problem. Those decimal probabilities must add up to 1.0. This additional constraint helps training converge more quickly than it otherwise would.\n",
        "Softmax is implemented through a neural network layer just before the output layer. The Softmax layer must have the same number of nodes as the output layer.\n",
        "\n",
        "<img src='https://miro.medium.com/max/1400/1*ReYpdIZ3ZSAPb2W8cJpkBg.jpeg' height=170px />"
      ],
      "metadata": {
        "id": "eu3QIU7AEO_x"
      }
    },
    {
      "cell_type": "markdown",
      "source": [
        "## Learning to train a CNN network"
      ],
      "metadata": {
        "id": "P6grxC0TKKSF"
      }
    },
    {
      "cell_type": "code",
      "source": [
        "import torch\n",
        "import torchvision\n",
        "import torchvision.transforms as transforms\n",
        "import torch.nn as nn\n",
        "import torch.nn.functional as F\n",
        "import torch.optim as optim\n",
        "import matplotlib.pyplot as plt\n",
        "import numpy as np"
      ],
      "metadata": {
        "id": "dIn4pId0_QNN"
      },
      "execution_count": 31,
      "outputs": []
    },
    {
      "cell_type": "code",
      "source": [
        "transform = transforms.Compose(\n",
        "    [transforms.ToTensor(),\n",
        "     transforms.Normalize((0.5, 0.5, 0.5), (0.5, 0.5, 0.5))])\n",
        "\n",
        "batch_size = 128\n",
        "\n",
        "trainset = torchvision.datasets.CIFAR10(root='./data', train=True,\n",
        "                                        download=True, transform=transform)\n",
        "trainloader = torch.utils.data.DataLoader(trainset, batch_size=batch_size,\n",
        "                                          shuffle=True, num_workers=2)\n",
        "\n",
        "testset = torchvision.datasets.CIFAR10(root='./data', train=False,\n",
        "                                       download=True, transform=transform)\n",
        "testloader = torch.utils.data.DataLoader(testset, batch_size=batch_size,\n",
        "                                         shuffle=False, num_workers=2)\n",
        "\n",
        "# Classes in CIFAR10\n",
        "classes = ('plane', 'car', 'bird', 'cat',\n",
        "           'deer', 'dog', 'frog', 'horse', 'ship', 'truck')"
      ],
      "metadata": {
        "id": "mjIZ7CYD_fJk",
        "outputId": "5a9a82da-4f9e-4467-bc87-1e7ecc9bcec2",
        "colab": {
          "base_uri": "https://localhost:8080/"
        }
      },
      "execution_count": 32,
      "outputs": [
        {
          "output_type": "stream",
          "name": "stdout",
          "text": [
            "Files already downloaded and verified\n",
            "Files already downloaded and verified\n"
          ]
        }
      ]
    },
    {
      "cell_type": "code",
      "source": [
        "print('Training data shape : ', trainset.data.shape, len(trainset.targets))\n",
        "print('Testing data shape : ', testset.data.shape, len(testset.targets))\n",
        "\n",
        "# Find the unique numbers from the train labels\n",
        "nClasses = len(classes)\n",
        "print('Total number of outputs : ', nClasses)\n",
        "print('Output classes : ', classes)"
      ],
      "metadata": {
        "id": "Byy8QKpk_zrf",
        "outputId": "b7aeff45-9606-42f7-ed81-f61843d73483",
        "colab": {
          "base_uri": "https://localhost:8080/"
        }
      },
      "execution_count": 33,
      "outputs": [
        {
          "output_type": "stream",
          "name": "stdout",
          "text": [
            "Training data shape :  (50000, 32, 32, 3) 50000\n",
            "Testing data shape :  (10000, 32, 32, 3) 10000\n",
            "Total number of outputs :  10\n",
            "Output classes :  ('plane', 'car', 'bird', 'cat', 'deer', 'dog', 'frog', 'horse', 'ship', 'truck')\n"
          ]
        }
      ]
    },
    {
      "cell_type": "code",
      "source": [
        "def train(num_epochs, model, train_loader, loss_func, optimizer):\n",
        "\n",
        "  # Training mode\n",
        "  model.train()\n",
        "\n",
        "  train_losses = []\n",
        "  train_acc = []\n",
        "\n",
        "  # Train the model\n",
        "  for epoch in range(num_epochs):\n",
        "    running_loss = 0\n",
        "    running_acc = 0\n",
        "    for i, (images, labels) in enumerate(train_loader):\n",
        "\n",
        "      # clear gradients for this training step\n",
        "      optimizer.zero_grad()\n",
        "\n",
        "      # Forward pass\n",
        "      output = model(images)\n",
        "\n",
        "      # Calculate loss\n",
        "      loss = loss_func(output, labels)\n",
        "\n",
        "      # Backpropagation, compute gradients\n",
        "      loss.backward()\n",
        "\n",
        "      # Apply gradients\n",
        "      optimizer.step()\n",
        "\n",
        "      # Running loss\n",
        "      running_loss += loss.item()\n",
        "\n",
        "      # indices of max probabilities\n",
        "      _, preds = torch.max(output, dim=1)\n",
        "\n",
        "      # Calculate number of correct predictions\n",
        "      correct = (preds == labels).sum().item()\n",
        "      running_acc += correct\n",
        "\n",
        "    # Average loss and acc values\n",
        "    epoch_loss = running_loss / len(train_loader.dataset)\n",
        "    epoch_acc = running_acc / len(train_loader.dataset)\n",
        "\n",
        "    train_losses.append(epoch_loss)\n",
        "    train_acc.append(epoch_acc)\n",
        "    print ('Epoch {}/{}, Loss: {:.4f}, Accuracy: {:.4f}'.format(epoch + 1, num_epochs, epoch_loss, epoch_acc*100))\n",
        "\n",
        "  return train_losses, train_acc"
      ],
      "metadata": {
        "id": "nSZQKvcUAGx0"
      },
      "execution_count": 34,
      "outputs": []
    },
    {
      "cell_type": "code",
      "source": [
        "def test_model(model, testloader):\n",
        "  correct = 0\n",
        "  total = 0\n",
        "  # Deactivate autograd engine (don't compute grads since we're not training)\n",
        "  with torch.no_grad():\n",
        "    for data in testloader:\n",
        "        images, labels = data\n",
        "        # Calculate outputs by running images through the network\n",
        "        outputs = model(images)\n",
        "        # The class with the highest value is what we choose as prediction\n",
        "        _, predicted = torch.max(outputs.data, 1)\n",
        "        total += labels.size(0)\n",
        "        correct += (predicted == labels).sum().item()\n",
        "\n",
        "  print('Accuracy of the network: %d %%' % (\n",
        "      100 * correct / total))"
      ],
      "metadata": {
        "id": "Q5RYTU9GAWAR"
      },
      "execution_count": 35,
      "outputs": []
    },
    {
      "cell_type": "code",
      "source": [
        "class Net(nn.Module):\n",
        "    def __init__(self):\n",
        "        super().__init__()\n",
        "        self.conv1 = nn.Conv2d(3, 16, 3)\n",
        "        self.pool = nn.MaxPool2d(2, 2)\n",
        "        self.conv2 = nn.Conv2d(16, 32, 5)\n",
        "        self.fc1 = nn.Linear(32 * 5 * 5, 512)\n",
        "        self.fc2 = nn.Linear(512, 128)\n",
        "        # output layer 10 classes\n",
        "        self.fc3 = nn.Linear(128, 10)\n",
        "\n",
        "    def forward(self, x):\n",
        "        x = self.pool(F.relu(self.conv1(x)))\n",
        "        x = self.pool(F.relu(self.conv2(x)))\n",
        "        # flatten all dimensions except batch\n",
        "        x = torch.flatten(x, 1)\n",
        "        x = F.relu(self.fc1(x))\n",
        "        x = F.relu(self.fc2(x))\n",
        "        x = self.fc3(x)\n",
        "        return x"
      ],
      "metadata": {
        "id": "UKdwSd3nAm60"
      },
      "execution_count": 36,
      "outputs": []
    },
    {
      "cell_type": "code",
      "source": [
        "model = Net()\n",
        "print(model)"
      ],
      "metadata": {
        "id": "hXc1MKRSAynH",
        "outputId": "c1569607-306e-4d0c-d9e5-41176da54b65",
        "colab": {
          "base_uri": "https://localhost:8080/"
        }
      },
      "execution_count": 37,
      "outputs": [
        {
          "output_type": "stream",
          "name": "stdout",
          "text": [
            "Net(\n",
            "  (conv1): Conv2d(3, 16, kernel_size=(3, 3), stride=(1, 1))\n",
            "  (pool): MaxPool2d(kernel_size=2, stride=2, padding=0, dilation=1, ceil_mode=False)\n",
            "  (conv2): Conv2d(16, 32, kernel_size=(5, 5), stride=(1, 1))\n",
            "  (fc1): Linear(in_features=800, out_features=512, bias=True)\n",
            "  (fc2): Linear(in_features=512, out_features=128, bias=True)\n",
            "  (fc3): Linear(in_features=128, out_features=10, bias=True)\n",
            ")\n"
          ]
        }
      ]
    },
    {
      "cell_type": "code",
      "source": [
        "criterion = nn.CrossEntropyLoss()"
      ],
      "metadata": {
        "id": "c9LNcItUBCNS"
      },
      "execution_count": 38,
      "outputs": []
    },
    {
      "cell_type": "code",
      "source": [
        "optimizer = optim.SGD(model.parameters(), lr=0.05, momentum=0.9)"
      ],
      "metadata": {
        "id": "FoGs72oFBQSf"
      },
      "execution_count": 39,
      "outputs": []
    },
    {
      "cell_type": "code",
      "source": [
        "import matplotlib.pyplot as plt\n",
        "import numpy as np\n",
        "\n",
        "fig = plt.figure(figsize=(14, 4))\n",
        "\n",
        "# Subplot 1: Loss vs Epochs\n",
        "ax1 = fig.add_subplot(1, 2, 1)\n",
        "ax1.plot(np.arange(1, len(train_losses) + 1), train_losses)\n",
        "ax1.set_xlabel('Epochs')\n",
        "ax1.set_ylabel('Training loss')\n",
        "ax1.set_title('Loss vs Epochs')\n",
        "\n",
        "# Subplot 2: Accuracy vs Epochs\n",
        "ax2 = fig.add_subplot(1, 2, 2)\n",
        "ax2.plot(np.arange(1, len(train_acc) + 1), train_acc)\n",
        "ax2.set_xlabel('Epochs')\n",
        "ax2.set_ylabel('Training accuracy')\n",
        "ax2.set_title('Accuracy vs Epochs')\n",
        "\n",
        "plt.tight_layout()\n",
        "plt.show()"
      ],
      "metadata": {
        "id": "iu_XNXZpC_A9",
        "outputId": "0e6fe0a5-db9d-44b7-edcf-55c7ba8b12c6",
        "colab": {
          "base_uri": "https://localhost:8080/",
          "height": 198
        }
      },
      "execution_count": 41,
      "outputs": [
        {
          "output_type": "display_data",
          "data": {
            "text/plain": [
              "<Figure size 1400x400 with 2 Axes>"
            ],
            "image/png": "[encoded data removed]"
          },
          "metadata": {}
        }
      ]
    },
    {
      "cell_type": "code",
      "source": [
        "# Accuracy on test data after training\n",
        "test_model(model, testloader)"
      ],
      "metadata": {
        "id": "hioODb64DOq7",
        "outputId": "e84f348e-858d-4e7d-a847-bb10bbe20f6e",
        "colab": {
          "base_uri": "https://localhost:8080/"
        }
      },
      "execution_count": 42,
      "outputs": [
        {
          "output_type": "stream",
          "name": "stdout",
          "text": [
            "Accuracy of the network: 67 %\n"
          ]
        }
      ]
    },
    {
      "cell_type": "markdown",
      "source": [
        "## Questions\n",
        "1) List some reasons why we should prefer CNN over ANN for image classification?\n",
        "\n",
        "2) Try improving the CNN performance further by tuning the hyperparameters(epochs, optimizer, LR etc). Report the improved test accuracy.\n",
        "\n",
        "3) What happens if you reduce the number of convolution layers to only 1?\n",
        "\n",
        "4) Why didn't we use the Softmax activation in the last layer of CNN?\n"
      ],
      "metadata": {
        "id": "RBQeCEB6REnH"
      }
    },
    {
      "cell_type": "markdown",
      "source": [
        "ANSWER 1"
      ],
      "metadata": {
        "id": "N7RVRVmLDdd2"
      }
    },
    {
      "cell_type": "markdown",
      "source": [
        "Sure, here are some reasons why Convolutional Neural Networks (CNNs) are preferred over traditional Artificial Neural Networks (ANNs) for image classification tasks:\n",
        "\n",
        "Feature Learning: CNNs automatically learn features from the input images, reducing the need for handcrafted feature extraction, which is required in traditional ANNs.\n",
        "\n",
        "Translation Invariance: CNNs are designed to understand spatial hierarchies in images, making them translation invariant. This means they can identify patterns regardless of where they appear in the image.\n",
        "\n",
        "Parameter Sharing: CNNs use parameter sharing, where a set of weights is applied to all parts of the image, reducing the total number of parameters. This allows CNNs to learn from fewer data and generalize better.\n",
        "\n",
        "Sparsity of Connections: In CNNs, neurons are only connected to a small local region of the input volume, which reduces the number of parameters and makes the model easier to train.\n",
        "\n",
        "Pooling Layers: CNNs typically include pooling layers, which reduce the spatial dimensions of the input, leading to lower memory requirements and faster computation.\n",
        "\n",
        "Hierarchical Structure: CNNs consist of multiple layers that capture increasingly abstract features of the image, leading to a hierarchical representation of the input.\n",
        "\n",
        "Weight Sharing: CNNs share weights across the input space, making them well-suited for tasks where the spatial relationship of the features matters, such as image classification.\n",
        "\n",
        "Regularization: CNNs have inherent regularization properties due to weight sharing and pooling, reducing the risk of overfitting, especially when dealing with limited training data."
      ],
      "metadata": {
        "id": "TS4ox70CDfP8"
      }
    },
    {
      "cell_type": "markdown",
      "source": [
        "ANSWER 2"
      ],
      "metadata": {
        "id": "Umrn5wStDhAt"
      }
    },
    {
      "cell_type": "code",
      "source": [
        "import torch\n",
        "import torch.nn as nn\n",
        "import torch.optim as optim\n",
        "import torchvision\n",
        "import torchvision.transforms as transforms\n",
        "\n",
        "# Assuming you have defined your CNN model as 'Net'\n",
        "\n",
        "# Hyperparameters\n",
        "num_epochs = 20\n",
        "batch_size = 128\n",
        "learning_rate = 0.001\n",
        "\n",
        "# Data preprocessing\n",
        "transform = transforms.Compose([\n",
        "    transforms.ToTensor(),\n",
        "    transforms.Normalize((0.5, 0.5, 0.5), (0.5, 0.5, 0.5))\n",
        "])\n",
        "\n",
        "trainset = torchvision.datasets.CIFAR10(root='./data', train=True,\n",
        "                                        download=True, transform=transform)\n",
        "trainloader = torch.utils.data.DataLoader(trainset, batch_size=batch_size,\n",
        "                                          shuffle=True, num_workers=2)\n",
        "\n",
        "testset = torchvision.datasets.CIFAR10(root='./data', train=False,\n",
        "                                       download=True, transform=transform)\n",
        "testloader = torch.utils.data.DataLoader(testset, batch_size=batch_size,\n",
        "                                         shuffle=False, num_workers=2)\n",
        "\n",
        "# Define the model\n",
        "model = Net()\n",
        "\n",
        "# Loss and optimizer\n",
        "criterion = nn.CrossEntropyLoss()\n",
        "optimizer = optim.Adam(model.parameters(), lr=learning_rate)\n",
        "\n",
        "# Training the model\n",
        "total_step = len(trainloader)\n",
        "for epoch in range(num_epochs):\n",
        "    for i, (images, labels) in enumerate(trainloader):\n",
        "        outputs = model(images)\n",
        "        loss = criterion(outputs, labels)\n",
        "\n",
        "        optimizer.zero_grad()\n",
        "        loss.backward()\n",
        "        optimizer.step()\n",
        "\n",
        "        if (i+1) % 100 == 0:\n",
        "            print ('Epoch [{}/{}], Step [{}/{}], Loss: {:.4f}'\n",
        "                   .format(epoch+1, num_epochs, i+1, total_step, loss.item()))\n",
        "\n",
        "# Test the model\n",
        "model.eval()\n",
        "with torch.no_grad():\n",
        "    correct = 0\n",
        "    total = 0\n",
        "    for images, labels in testloader:\n",
        "        outputs = model(images)\n",
        "        _, predicted = torch.max(outputs.data, 1)\n",
        "        total += labels.size(0)\n",
        "        correct += (predicted == labels).sum().item()\n",
        "\n",
        "print('Test Accuracy of the model on the 10000 test images: {} %'.format(100 * correct / total))"
      ],
      "metadata": {
        "id": "gXCoz-OqFENb",
        "outputId": "6f989712-2312-4643-a449-7e01db8305c6",
        "colab": {
          "base_uri": "https://localhost:8080/"
        }
      },
      "execution_count": 45,
      "outputs": [
        {
          "output_type": "stream",
          "name": "stdout",
          "text": [
            "Files already downloaded and verified\n",
            "Files already downloaded and verified\n",
            "Epoch [1/20], Step [100/391], Loss: 1.6373\n",
            "Epoch [1/20], Step [200/391], Loss: 1.5112\n",
            "Epoch [1/20], Step [300/391], Loss: 1.5514\n",
            "Epoch [2/20], Step [100/391], Loss: 1.2268\n",
            "Epoch [2/20], Step [200/391], Loss: 1.1556\n",
            "Epoch [2/20], Step [300/391], Loss: 1.1416\n",
            "Epoch [3/20], Step [100/391], Loss: 0.9918\n",
            "Epoch [3/20], Step [200/391], Loss: 0.9453\n",
            "Epoch [3/20], Step [300/391], Loss: 0.9695\n",
            "Epoch [4/20], Step [100/391], Loss: 1.0862\n",
            "Epoch [4/20], Step [200/391], Loss: 0.9521\n",
            "Epoch [4/20], Step [300/391], Loss: 0.8745\n",
            "Epoch [5/20], Step [100/391], Loss: 0.8793\n",
            "Epoch [5/20], Step [200/391], Loss: 0.9072\n",
            "Epoch [5/20], Step [300/391], Loss: 0.8324\n",
            "Epoch [6/20], Step [100/391], Loss: 0.8499\n",
            "Epoch [6/20], Step [200/391], Loss: 0.6714\n",
            "Epoch [6/20], Step [300/391], Loss: 0.6588\n",
            "Epoch [7/20], Step [100/391], Loss: 0.5469\n",
            "Epoch [7/20], Step [200/391], Loss: 0.6491\n",
            "Epoch [7/20], Step [300/391], Loss: 0.6285\n",
            "Epoch [8/20], Step [100/391], Loss: 0.5742\n",
            "Epoch [8/20], Step [200/391], Loss: 0.5811\n",
            "Epoch [8/20], Step [300/391], Loss: 0.8745\n",
            "Epoch [9/20], Step [100/391], Loss: 0.3871\n",
            "Epoch [9/20], Step [200/391], Loss: 0.4975\n",
            "Epoch [9/20], Step [300/391], Loss: 0.4322\n",
            "Epoch [10/20], Step [100/391], Loss: 0.4022\n",
            "Epoch [10/20], Step [200/391], Loss: 0.5055\n",
            "Epoch [10/20], Step [300/391], Loss: 0.4424\n",
            "Epoch [11/20], Step [100/391], Loss: 0.3233\n",
            "Epoch [11/20], Step [200/391], Loss: 0.4785\n",
            "Epoch [11/20], Step [300/391], Loss: 0.4019\n",
            "Epoch [12/20], Step [100/391], Loss: 0.3092\n",
            "Epoch [12/20], Step [200/391], Loss: 0.3998\n",
            "Epoch [12/20], Step [300/391], Loss: 0.3316\n",
            "Epoch [13/20], Step [100/391], Loss: 0.1733\n",
            "Epoch [13/20], Step [200/391], Loss: 0.3209\n",
            "Epoch [13/20], Step [300/391], Loss: 0.2783\n",
            "Epoch [14/20], Step [100/391], Loss: 0.1966\n",
            "Epoch [14/20], Step [200/391], Loss: 0.2928\n",
            "Epoch [14/20], Step [300/391], Loss: 0.2485\n",
            "Epoch [15/20], Step [100/391], Loss: 0.1955\n",
            "Epoch [15/20], Step [200/391], Loss: 0.2220\n",
            "Epoch [15/20], Step [300/391], Loss: 0.1334\n",
            "Epoch [16/20], Step [100/391], Loss: 0.1813\n",
            "Epoch [16/20], Step [200/391], Loss: 0.1137\n",
            "Epoch [16/20], Step [300/391], Loss: 0.1023\n",
            "Epoch [17/20], Step [100/391], Loss: 0.1885\n",
            "Epoch [17/20], Step [200/391], Loss: 0.0635\n",
            "Epoch [17/20], Step [300/391], Loss: 0.1121\n",
            "Epoch [18/20], Step [100/391], Loss: 0.0890\n",
            "Epoch [18/20], Step [200/391], Loss: 0.1274\n",
            "Epoch [18/20], Step [300/391], Loss: 0.0999\n",
            "Epoch [19/20], Step [100/391], Loss: 0.0568\n",
            "Epoch [19/20], Step [200/391], Loss: 0.1635\n",
            "Epoch [19/20], Step [300/391], Loss: 0.1545\n",
            "Epoch [20/20], Step [100/391], Loss: 0.0302\n",
            "Epoch [20/20], Step [200/391], Loss: 0.0753\n",
            "Epoch [20/20], Step [300/391], Loss: 0.0662\n",
            "Test Accuracy of the model on the 10000 test images: 69.13 %\n"
          ]
        }
      ]
    },
    {
      "cell_type": "markdown",
      "source": [
        "ANSWER 3"
      ],
      "metadata": {
        "id": "R1-saLLqIztl"
      }
    },
    {
      "cell_type": "code",
      "source": [
        "import torch\n",
        "import torch.nn as nn\n",
        "import torch.optim as optim\n",
        "import torchvision\n",
        "import torchvision.transforms as transforms\n",
        "\n",
        "# Define the CNN model with only one convolutional layer\n",
        "class Net(nn.Module):\n",
        "    def __init__(self):\n",
        "        super(Net, self).__init__()\n",
        "        self.conv1 = nn.Conv2d(3, 6, 5)\n",
        "        self.pool = nn.MaxPool2d(2, 2)\n",
        "        self.fc1 = nn.Linear(6 * 14 * 14, 120)\n",
        "        self.fc2 = nn.Linear(120, 84)\n",
        "        self.fc3 = nn.Linear(84, 10)\n",
        "\n",
        "    def forward(self, x):\n",
        "        x = self.pool(F.relu(self.conv1(x)))\n",
        "        x = x.view(-1, 6 * 14 * 14)\n",
        "        x = F.relu(self.fc1(x))\n",
        "        x = F.relu(self.fc2(x))\n",
        "        x = self.fc3(x)\n",
        "        return x\n",
        "\n",
        "# Hyperparameters\n",
        "num_epochs = 20\n",
        "batch_size = 128\n",
        "learning_rate = 0.001\n",
        "\n",
        "# Data preprocessing\n",
        "transform = transforms.Compose([\n",
        "    transforms.ToTensor(),\n",
        "    transforms.Normalize((0.5, 0.5, 0.5), (0.5, 0.5, 0.5))\n",
        "])\n",
        "\n",
        "trainset = torchvision.datasets.CIFAR10(root='./data', train=True,\n",
        "                                        download=True, transform=transform)\n",
        "trainloader = torch.utils.data.DataLoader(trainset, batch_size=batch_size,\n",
        "                                          shuffle=True, num_workers=2)\n",
        "\n",
        "testset = torchvision.datasets.CIFAR10(root='./data', train=False,\n",
        "                                       download=True, transform=transform)\n",
        "testloader = torch.utils.data.DataLoader(testset, batch_size=batch_size,\n",
        "                                         shuffle=False, num_workers=2)\n",
        "\n",
        "# Define the model\n",
        "model = Net()\n",
        "\n",
        "# Loss and optimizer\n",
        "criterion = nn.CrossEntropyLoss()\n",
        "optimizer = optim.Adam(model.parameters(), lr=learning_rate)\n",
        "\n",
        "# Training the model\n",
        "total_step = len(trainloader)\n",
        "for epoch in range(num_epochs):\n",
        "    for i, (images, labels) in enumerate(trainloader):\n",
        "        outputs = model(images)\n",
        "        loss = criterion(outputs, labels)\n",
        "\n",
        "        optimizer.zero_grad()\n",
        "        loss.backward()\n",
        "        optimizer.step()\n",
        "\n",
        "        if (i+1) % 100 == 0:\n",
        "            print ('Epoch [{}/{}], Step [{}/{}], Loss: {:.4f}'\n",
        "                   .format(epoch+1, num_epochs, i+1, total_step, loss.item()))\n",
        "\n",
        "# Test the model\n",
        "model.eval()\n",
        "with torch.no_grad():\n",
        "    correct = 0\n",
        "    total = 0\n",
        "    for images, labels in testloader:\n",
        "        outputs = model(images)\n",
        "        _, predicted = torch.max(outputs.data, 1)\n",
        "        total += labels.size(0)\n",
        "        correct += (predicted == labels).sum().item()\n",
        "\n",
        "print('Test Accuracy of the model on the 10000 test images: {} %'.format(100 * correct / total))"
      ],
      "metadata": {
        "id": "3SfLEtrtI42k",
        "outputId": "7170121c-8546-4e94-a9a9-5f3fb0dc2de0",
        "colab": {
          "base_uri": "https://localhost:8080/"
        }
      },
      "execution_count": 46,
      "outputs": [
        {
          "output_type": "stream",
          "name": "stdout",
          "text": [
            "Files already downloaded and verified\n",
            "Files already downloaded and verified\n",
            "Epoch [1/20], Step [100/391], Loss: 1.6168\n",
            "Epoch [1/20], Step [200/391], Loss: 1.4378\n",
            "Epoch [1/20], Step [300/391], Loss: 1.5152\n",
            "Epoch [2/20], Step [100/391], Loss: 1.2616\n",
            "Epoch [2/20], Step [200/391], Loss: 1.2082\n",
            "Epoch [2/20], Step [300/391], Loss: 1.2222\n",
            "Epoch [3/20], Step [100/391], Loss: 1.1249\n",
            "Epoch [3/20], Step [200/391], Loss: 1.2186\n",
            "Epoch [3/20], Step [300/391], Loss: 1.2407\n",
            "Epoch [4/20], Step [100/391], Loss: 1.2509\n",
            "Epoch [4/20], Step [200/391], Loss: 1.0157\n",
            "Epoch [4/20], Step [300/391], Loss: 1.2400\n",
            "Epoch [5/20], Step [100/391], Loss: 1.1654\n",
            "Epoch [5/20], Step [200/391], Loss: 1.0295\n",
            "Epoch [5/20], Step [300/391], Loss: 1.0632\n",
            "Epoch [6/20], Step [100/391], Loss: 0.9819\n",
            "Epoch [6/20], Step [200/391], Loss: 1.1104\n",
            "Epoch [6/20], Step [300/391], Loss: 1.0459\n",
            "Epoch [7/20], Step [100/391], Loss: 0.9910\n",
            "Epoch [7/20], Step [200/391], Loss: 0.9845\n",
            "Epoch [7/20], Step [300/391], Loss: 1.1276\n",
            "Epoch [8/20], Step [100/391], Loss: 0.8406\n",
            "Epoch [8/20], Step [200/391], Loss: 0.7947\n",
            "Epoch [8/20], Step [300/391], Loss: 1.1420\n",
            "Epoch [9/20], Step [100/391], Loss: 0.8812\n",
            "Epoch [9/20], Step [200/391], Loss: 1.1227\n",
            "Epoch [9/20], Step [300/391], Loss: 0.9075\n",
            "Epoch [10/20], Step [100/391], Loss: 0.9804\n",
            "Epoch [10/20], Step [200/391], Loss: 0.8667\n",
            "Epoch [10/20], Step [300/391], Loss: 1.0318\n",
            "Epoch [11/20], Step [100/391], Loss: 0.8394\n",
            "Epoch [11/20], Step [200/391], Loss: 0.7085\n",
            "Epoch [11/20], Step [300/391], Loss: 0.8758\n",
            "Epoch [12/20], Step [100/391], Loss: 0.7718\n",
            "Epoch [12/20], Step [200/391], Loss: 0.9221\n",
            "Epoch [12/20], Step [300/391], Loss: 0.8242\n",
            "Epoch [13/20], Step [100/391], Loss: 0.8358\n",
            "Epoch [13/20], Step [200/391], Loss: 0.7956\n",
            "Epoch [13/20], Step [300/391], Loss: 0.7725\n",
            "Epoch [14/20], Step [100/391], Loss: 0.5865\n",
            "Epoch [14/20], Step [200/391], Loss: 0.7977\n",
            "Epoch [14/20], Step [300/391], Loss: 0.9646\n",
            "Epoch [15/20], Step [100/391], Loss: 0.6483\n",
            "Epoch [15/20], Step [200/391], Loss: 0.8689\n",
            "Epoch [15/20], Step [300/391], Loss: 0.7279\n",
            "Epoch [16/20], Step [100/391], Loss: 0.6096\n",
            "Epoch [16/20], Step [200/391], Loss: 0.7565\n",
            "Epoch [16/20], Step [300/391], Loss: 0.6163\n",
            "Epoch [17/20], Step [100/391], Loss: 0.5807\n",
            "Epoch [17/20], Step [200/391], Loss: 0.5071\n",
            "Epoch [17/20], Step [300/391], Loss: 0.6642\n",
            "Epoch [18/20], Step [100/391], Loss: 0.6348\n",
            "Epoch [18/20], Step [200/391], Loss: 0.6857\n",
            "Epoch [18/20], Step [300/391], Loss: 0.7478\n",
            "Epoch [19/20], Step [100/391], Loss: 0.5589\n",
            "Epoch [19/20], Step [200/391], Loss: 0.5852\n",
            "Epoch [19/20], Step [300/391], Loss: 0.5127\n",
            "Epoch [20/20], Step [100/391], Loss: 0.4243\n",
            "Epoch [20/20], Step [200/391], Loss: 0.5994\n",
            "Epoch [20/20], Step [300/391], Loss: 0.6658\n",
            "Test Accuracy of the model on the 10000 test images: 59.98 %\n"
          ]
        }
      ]
    },
    {
      "cell_type": "markdown",
      "source": [
        "ANSWER 4"
      ],
      "metadata": {
        "id": "YD_cgKXwLBEE"
      }
    },
    {
      "cell_type": "markdown",
      "source": [
        "In PyTorch, when using nn.CrossEntropyLoss, the softmax operation is already included in the loss function. Therefore, we don't need to add a softmax activation to the output layer of the CNN. The raw output from the last layer is sufficient for computing the loss."
      ],
      "metadata": {
        "id": "bTOyIi-pLElw"
      }
    }
  ]
}